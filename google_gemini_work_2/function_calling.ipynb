{
 "cells": [
  {
   "cell_type": "code",
   "execution_count": null,
   "id": "0c830b54",
   "metadata": {},
   "outputs": [],
   "source": [
    "# The Core Problem: LLMs are Isolated Brains.\n",
    "#  By default, a large language model (LLM) is like a brilliant brain in a jar. It possesses vast amounts of knowledge, but it's\n",
    "#  static and disconnected from the real world.\n",
    "#  One major limitation is its knowledge cutoff—its information is frozen at the point when its training data was collected. \n",
    "# That means it doesn't know the current date, today's weather, or recent news. \n",
    "# Another key limitation is its inability to act. The model cannot perform actions such as sending an email, booking a \n",
    "# flight, checking the temperature of your city, or querying a private database. It can only generate text.\n",
    "\n",
    "# llm is very fluent in text generation and problem solving , resoning and other logical tasks but the majour problem with llm is its cutoff from the real world (knowledge cutoff),\n",
    "# means llm knows only information till perticular date of the training time .\n",
    "# llm cant hit the api and give the real time information by its own. \n",
    "# ex :- assume i give a email containt and sink email and give the task to llm to send the mail to sink but llm cant send the mail to sink by its own .\n",
    "\n",
    "# core problems with llm \n",
    "# 1. knowledge cutoff \n",
    "# 2. not respoding to the current events \n",
    "# 3. disconnected from the real world \n",
    "# 4. cant perform real world task like doing payments  (inability to act)"
   ]
  },
  {
   "cell_type": "code",
   "execution_count": null,
   "id": "6f997885",
   "metadata": {},
   "outputs": [],
   "source": [
    "# function calling is the mechanism that gives this brain hands and senses to interact with the outside world\n",
    "# exernal systems and apis in  sturctured way.\n",
    "# it is an feature that allows developers to create an function for an specific task, pass it  to the maodel and based \n",
    "# on the problem asked use that function and give the output\n",
    "\n",
    "# define a funtion for get_temprture where input is city and with the help of temprature api we first catch the city temp and \n",
    "# then return as an output of city temprature .\n",
    "\n",
    "\n",
    "# when we call model.GenerateContent() we also pass this tool in this object ."
   ]
  },
  {
   "cell_type": "code",
   "execution_count": null,
   "id": "efd34d3c",
   "metadata": {},
   "outputs": [],
   "source": [
    "import os \n",
    "os.environ[\"GOOGLE_API_KEY\"]="
   ]
  },
  {
   "cell_type": "code",
   "execution_count": 5,
   "id": "5b6e4ac1",
   "metadata": {},
   "outputs": [],
   "source": [
    "from dotenv import load_dotenv\n",
    "from google import genai\n",
    "from google.genai import types \n",
    "\n",
    "load_dotenv()\n",
    "api_key=os.getenv(\"GOOGLE_API_KEY\") or os.getenv('GEMINI_API_KEY')\n",
    "\n",
    "if not api_key :\n",
    "    raise ValueError(\"api key is not found\")\n",
    "\n",
    "client = genai.Client(api_key = api_key)\n"
   ]
  },
  {
   "cell_type": "code",
   "execution_count": 8,
   "id": "38c496ff",
   "metadata": {},
   "outputs": [
    {
     "name": "stdout",
     "output_type": "stream",
     "text": [
      "Asia/Kolkata\n"
     ]
    },
    {
     "data": {
      "text/plain": [
       "datetime.datetime(2025, 10, 6, 12, 44, 43, 802133, tzinfo=<DstTzInfo 'Asia/Kolkata' IST+5:30:00 STD>)"
      ]
     },
     "execution_count": 8,
     "metadata": {},
     "output_type": "execute_result"
    }
   ],
   "source": [
    "import datetime\n",
    "import pytz\n",
    "\n",
    "tz = pytz.timezone(\"Asia/Kolkata\")\n",
    "print(tz)\n",
    "now = datetime.datetime.now(tz)\n",
    "now\n",
    "\n"
   ]
  },
  {
   "cell_type": "code",
   "execution_count": 11,
   "id": "82fd00d7",
   "metadata": {},
   "outputs": [
    {
     "name": "stdout",
     "output_type": "stream",
     "text": [
      "2025-10-06\n",
      "12:44:43 PM\n"
     ]
    }
   ],
   "source": [
    "print(now.strftime(\"%Y-%m-%d\"))\n",
    "print(now.strftime(\"%I:%M:%S %p\"))"
   ]
  },
  {
   "cell_type": "code",
   "execution_count": 13,
   "id": "418a7756",
   "metadata": {},
   "outputs": [],
   "source": [
    "#whenever we difine the funtion then add (not mandate ) but its helpful to llm to finding right tool to \n",
    "# solve the problem .\n",
    "\n",
    "# type-hinting \n",
    "# description \n",
    "\n",
    "def get_current_datetime(timezone : str = \"UTC\") -> dict :\n",
    "    \"\"\"fetches the current date and tiime for the given timezone .\n",
    "\n",
    "        Args:\n",
    "            timezone(str):it is the timezone name (eg= \"Asia/Kolkata\",\"UTC)\n",
    "\n",
    "        Returns :\n",
    "            dict: A dictionary containing the current date and time in specified in the specified timezone\n",
    "            or an error message if the timezone is invalid .\n",
    "\n",
    "         \"\"\"\n",
    "    print(f\"--Function get_current_datetime is called for the timezone {timezone} \")\n",
    "\n",
    "    try :\n",
    "        tz = pytz.timezone(timezone)\n",
    "        now = datetime.datetime.now(tz)\n",
    "        return {\n",
    "            \"date\" : now.strftime(\"%Y-%m-%d\"),\n",
    "            \"time\" : now.strftime(\"%I:%M:%S %p\")\n",
    "        }\n",
    "\n",
    "    except pytz.UnknownTimeZoneError:\n",
    "        return {\"error: invalid timezone specified.\"}\n",
    "\n"
   ]
  },
  {
   "cell_type": "code",
   "execution_count": 15,
   "id": "9e772f6c",
   "metadata": {},
   "outputs": [
    {
     "name": "stdout",
     "output_type": "stream",
     "text": [
      "--Function get_current_datetime is called for the timezone Asia/Kolkata \n",
      "2025-10-06\n",
      "01:05:23 PM\n"
     ]
    }
   ],
   "source": [
    "output = get_current_datetime(\"Asia/Kolkata\")\n",
    "print(output['date'])\n",
    "print(output['time'])"
   ]
  },
  {
   "cell_type": "code",
   "execution_count": 18,
   "id": "a3dcdfe0",
   "metadata": {},
   "outputs": [
    {
     "name": "stdout",
     "output_type": "stream",
     "text": [
      "--Function get_current_datetime is called for the timezone Asia/Kolkata \n",
      "The current date and time in Chandigarh is 2025-10-06 01:13:49 PM.\n"
     ]
    }
   ],
   "source": [
    "query =\"what is current date and time in chandigarh\"\n",
    "\n",
    "response = client.models.generate_content(\n",
    "    model='gemini-2.5-flash',\n",
    "    contents=query,\n",
    "    config = types.GenerateContentConfig(\n",
    "        tools= [get_current_datetime]\n",
    "    )\n",
    "    \n",
    ")\n",
    "\n",
    "print(response.text)"
   ]
  },
  {
   "cell_type": "code",
   "execution_count": 17,
   "id": "2f1d2399",
   "metadata": {},
   "outputs": [
    {
     "name": "stdout",
     "output_type": "stream",
     "text": [
      "Hello! How can I assist you today?\n",
      "\n"
     ]
    }
   ],
   "source": [
    "query =\"hello\"\n",
    "\n",
    "response = client.models.generate_content(\n",
    "    model='gemini-2.5-flash',\n",
    "    contents=query,\n",
    "    config = types.GenerateContentConfig(\n",
    "        tools= [get_current_datetime]\n",
    "    )\n",
    "    \n",
    ")\n",
    "\n",
    "print(response.text)\n"
   ]
  },
  {
   "cell_type": "code",
   "execution_count": null,
   "id": "6c0716d9",
   "metadata": {},
   "outputs": [
    {
     "data": {
      "text/plain": [
       "GenerateContentResponse(\n",
       "  automatic_function_calling_history=[],\n",
       "  candidates=[\n",
       "    Candidate(\n",
       "      content=Content(\n",
       "        parts=[\n",
       "          Part(\n",
       "            text=\"\"\"Hello! How can I assist you today?\n",
       "\"\"\"\n",
       "          ),\n",
       "        ],\n",
       "        role='model'\n",
       "      ),\n",
       "      finish_reason=<FinishReason.STOP: 'STOP'>,\n",
       "      index=0\n",
       "    ),\n",
       "  ],\n",
       "  model_version='gemini-2.5-flash',\n",
       "  response_id='xXPjaKHqGNq_1e8Pu_SxyQg',\n",
       "  sdk_http_response=HttpResponse(\n",
       "    headers=<dict len=11>\n",
       "  ),\n",
       "  usage_metadata=GenerateContentResponseUsageMetadata(\n",
       "    candidates_token_count=9,\n",
       "    prompt_token_count=117,\n",
       "    prompt_tokens_details=[\n",
       "      ModalityTokenCount(\n",
       "        modality=<MediaModality.TEXT: 'TEXT'>,\n",
       "        token_count=117\n",
       "      ),\n",
       "    ],\n",
       "    total_token_count=126\n",
       "  )\n",
       ")"
      ]
     },
     "execution_count": 20,
     "metadata": {},
     "output_type": "execute_result"
    }
   ],
   "source": [
    "# here we add thinking_config parameter \n",
    "\n",
    "query =\"hello\"\n",
    "\n",
    "response = client.models.generate_content(\n",
    "    model='gemini-2.5-flash',\n",
    "    contents=query,\n",
    "    config = types.GenerateContentConfig(\n",
    "        tools= [get_current_datetime],\n",
    "        thinking_config = types.ThinkingConfig(\n",
    "            include_thoughts=True\n",
    "        )\n",
    "    )\n",
    "    \n",
    ")\n",
    "response\n",
    "# here in the second line - automatic_function_calling_history=[]\n",
    "# no tool usage when handling the current query \"hello\"\n"
   ]
  },
  {
   "cell_type": "code",
   "execution_count": 22,
   "id": "e9fbdb1a",
   "metadata": {},
   "outputs": [
    {
     "name": "stdout",
     "output_type": "stream",
     "text": [
      "--Function get_current_datetime is called for the timezone Asia/Kolkata \n"
     ]
    },
    {
     "data": {
      "text/plain": [
       "GenerateContentResponse(\n",
       "  automatic_function_calling_history=[\n",
       "    UserContent(\n",
       "      parts=[\n",
       "        Part(\n",
       "          text='what is current date and time in chandigarh'\n",
       "        ),\n",
       "      ],\n",
       "      role='user'\n",
       "    ),\n",
       "    Content(\n",
       "      parts=[\n",
       "        Part(\n",
       "          text=\"\"\"**Fetching the Time in Chandigarh**\n",
       "\n",
       "Okay, so I need to get the current date and time for Chandigarh. I know I have this `get_current_datetime` tool that can do that, but I need to give it a timezone. \"Chandigarh\" isn't a valid timezone string, so I need to translate that. Let me think... ah, right! \"Asia/Kolkata\" is the standard timezone for India, and that should be the same for Chandigarh.  Let's call the tool with `timezone='Asia/Kolkata'` and see what we get.\n",
       "\"\"\",\n",
       "          thought=True\n",
       "        ),\n",
       "        Part(\n",
       "          function_call=FunctionCall(\n",
       "            args={<... 1 item at Max depth ...>},\n",
       "            name='get_current_datetime'\n",
       "          ),\n",
       "          thought_signature=b'\\n\\xf2\\x04\\x01\\xd1\\xed\\x8ao\\xc8y\\xe9\\xd7\\x82\\xf3D\\xa70v$6\\xa0\\xf2\\x0c\\x18\\x0e\\xbb\\x88\\x8f=\\xf8\\\\I\\xcd\\xacC\\x1c8\\xae\\xa2XV\\x1e\\xa0>lP\\x8b\\xbe\\x9c\\xda\\xd2d\\xdb\\xd5\\xe3nj\\xea\\xb5\\x16\\x8e=\\xc3KE\\xf6\\xde\\x02\\xfc<4Z\\xe1\\xa4\\x01y\\xf9\\xaf\\xc9)z\\xfeB3\\xc3\\xff\\x93\\xe8\\x91FS\"\\x8a\\x81\\xb8\\xf5\\xe0...'\n",
       "        ),\n",
       "      ],\n",
       "      role='model'\n",
       "    ),\n",
       "    Content(\n",
       "      parts=[\n",
       "        Part(\n",
       "          function_response=FunctionResponse(\n",
       "            name='get_current_datetime',\n",
       "            response={<... 1 item at Max depth ...>}\n",
       "          )\n",
       "        ),\n",
       "      ],\n",
       "      role='user'\n",
       "    ),\n",
       "  ],\n",
       "  candidates=[\n",
       "    Candidate(\n",
       "      content=Content(\n",
       "        parts=[\n",
       "          Part(\n",
       "            text='The current date and time in Chandigarh is 2025-10-06 01:21:13 PM.'\n",
       "          ),\n",
       "        ],\n",
       "        role='model'\n",
       "      ),\n",
       "      finish_reason=<FinishReason.STOP: 'STOP'>,\n",
       "      index=0\n",
       "    ),\n",
       "  ],\n",
       "  model_version='gemini-2.5-flash',\n",
       "  response_id='63TjaOH6DIn41e8PxPuu-Qg',\n",
       "  sdk_http_response=HttpResponse(\n",
       "    headers=<dict len=11>\n",
       "  ),\n",
       "  usage_metadata=GenerateContentResponseUsageMetadata(\n",
       "    candidates_token_count=30,\n",
       "    prompt_token_count=314,\n",
       "    prompt_tokens_details=[\n",
       "      ModalityTokenCount(\n",
       "        modality=<MediaModality.TEXT: 'TEXT'>,\n",
       "        token_count=314\n",
       "      ),\n",
       "    ],\n",
       "    total_token_count=344\n",
       "  )\n",
       ")"
      ]
     },
     "execution_count": 22,
     "metadata": {},
     "output_type": "execute_result"
    }
   ],
   "source": [
    "query =\"what is current date and time in chandigarh\"\n",
    "\n",
    "response = client.models.generate_content(\n",
    "    model='gemini-2.5-flash',\n",
    "    contents=query,\n",
    "    config = types.GenerateContentConfig(\n",
    "        tools= [get_current_datetime],\n",
    "        thinking_config=types.ThinkingConfig(\n",
    "            include_thoughts=True\n",
    "        )\n",
    "    )\n",
    "    \n",
    ")\n",
    "\n",
    "response"
   ]
  },
  {
   "cell_type": "code",
   "execution_count": null,
   "id": "352ec636",
   "metadata": {},
   "outputs": [
    {
     "data": {
      "text/plain": [
       "Part(\n",
       "  text=\"\"\"**Fetching the Time in Chandigarh**\n",
       "\n",
       "Okay, so I need to get the current date and time for Chandigarh. I know I have this `get_current_datetime` tool that can do that, but I need to give it a timezone. \"Chandigarh\" isn't a valid timezone string, so I need to translate that. Let me think... ah, right! \"Asia/Kolkata\" is the standard timezone for India, and that should be the same for Chandigarh.  Let's call the tool with `timezone='Asia/Kolkata'` and see what we get.\n",
       "\"\"\",\n",
       "  thought=True\n",
       ")"
      ]
     },
     "execution_count": 25,
     "metadata": {},
     "output_type": "execute_result"
    }
   ],
   "source": [
    " #thinking what llm think when its deal with the query which is releted to time and date or i can say tool\n",
    "response.automatic_function_calling_history[1].parts[0] "
   ]
  },
  {
   "cell_type": "code",
   "execution_count": 26,
   "id": "4b04e14d",
   "metadata": {},
   "outputs": [
    {
     "data": {
      "text/plain": [
       "Part(\n",
       "  function_call=FunctionCall(\n",
       "    args={\n",
       "      'timezone': 'Asia/Kolkata'\n",
       "    },\n",
       "    name='get_current_datetime'\n",
       "  ),\n",
       "  thought_signature=b'\\n\\xf2\\x04\\x01\\xd1\\xed\\x8ao\\xc8y\\xe9\\xd7\\x82\\xf3D\\xa70v$6\\xa0\\xf2\\x0c\\x18\\x0e\\xbb\\x88\\x8f=\\xf8\\\\I\\xcd\\xacC\\x1c8\\xae\\xa2XV\\x1e\\xa0>lP\\x8b\\xbe\\x9c\\xda\\xd2d\\xdb\\xd5\\xe3nj\\xea\\xb5\\x16\\x8e=\\xc3KE\\xf6\\xde\\x02\\xfc<4Z\\xe1\\xa4\\x01y\\xf9\\xaf\\xc9)z\\xfeB3\\xc3\\xff\\x93\\xe8\\x91FS\"\\x8a\\x81\\xb8\\xf5\\xe0...'\n",
       ")"
      ]
     },
     "execution_count": 26,
     "metadata": {},
     "output_type": "execute_result"
    }
   ],
   "source": [
    "response.automatic_function_calling_history[1].parts[1]  # user . system\n",
    "\n",
    "# gemini -- function execute(X)\n",
    "# internal thinking :- function, arguments [value]\n",
    "\n",
    "# gemini- json schema :- function , arguments , value  ----->system.\n",
    "\n",
    "\n",
    "# system -- command  -- [gemini : function]  , system"
   ]
  },
  {
   "cell_type": "code",
   "execution_count": null,
   "id": "7c64d459",
   "metadata": {},
   "outputs": [
    {
     "data": {
      "text/plain": [
       "Content(\n",
       "  parts=[\n",
       "    Part(\n",
       "      function_response=FunctionResponse(\n",
       "        name='get_current_datetime',\n",
       "        response={\n",
       "          'result': {\n",
       "            'date': '2025-10-06',\n",
       "            'time': '01:21:13 PM'\n",
       "          }\n",
       "        }\n",
       "      )\n",
       "    ),\n",
       "  ],\n",
       "  role='user'\n",
       ")"
      ]
     },
     "execution_count": 27,
     "metadata": {},
     "output_type": "execute_result"
    }
   ],
   "source": [
    "response.automatic_function_calling_history[2]\n",
    "\n",
    "# system -- function ---> o/p ----> i/p -- model\n",
    "# structured from"
   ]
  },
  {
   "cell_type": "code",
   "execution_count": 28,
   "id": "583830e3",
   "metadata": {},
   "outputs": [
    {
     "data": {
      "text/plain": [
       "[Candidate(\n",
       "   content=Content(\n",
       "     parts=[\n",
       "       Part(\n",
       "         text='The current date and time in Chandigarh is 2025-10-06 01:21:13 PM.'\n",
       "       ),\n",
       "     ],\n",
       "     role='model'\n",
       "   ),\n",
       "   finish_reason=<FinishReason.STOP: 'STOP'>,\n",
       "   index=0\n",
       " )]"
      ]
     },
     "execution_count": 28,
     "metadata": {},
     "output_type": "execute_result"
    }
   ],
   "source": [
    "response.candidates"
   ]
  },
  {
   "cell_type": "code",
   "execution_count": null,
   "id": "41807718",
   "metadata": {},
   "outputs": [],
   "source": [
    "# PARALLEL FUNCTION CALLING.\n",
    "# LLM -- AUTOMATICALLY DECIDE  WHICH FUNCTION TO CALL.\n",
    "# MULTIPLE : LLM CAN DO.\n",
    "\n",
    "# USER :- TELL ME CURRENT DATE TIME AND  TEMPERATURE  OF DELHI."
   ]
  },
  {
   "cell_type": "code",
   "execution_count": 30,
   "id": "9bfb4b17",
   "metadata": {},
   "outputs": [],
   "source": [
    "def get_temperature(city: str) -> dict:\n",
    "    \"\"\"\n",
    "    function that returns temperature data for a given city.\n",
    "\n",
    "    Args:\n",
    "        city (str): Name of the city\n",
    "\n",
    "    Returns:\n",
    "        dict: A dictionary with temperature and condition\n",
    "    \"\"\"\n",
    "    print(f\"--- Function get_temperature ({city} Called\")\n",
    "    # Hardcoded fake temperature data\n",
    "    fake_data = {\n",
    "        \"New York\": {\"temperature\": \"30°C\", \"condition\": \"Sunny\"},\n",
    "        \"Delhi\": {\"temperature\": \"36°C\", \"condition\": \"Hot and Dry\"},\n",
    "        \"London\": {\"temperature\": \"22°C\", \"condition\": \"Cloudy\"},\n",
    "        \"Tokyo\": {\"temperature\": \"28°C\", \"condition\": \"Humid\"},\n",
    "        \"Paris\": {\"temperature\": \"25°C\", \"condition\": \"Breezy\"},\n",
    "    }\n",
    "\n",
    "    # Return fake data if city exists, else give default\n",
    "    return fake_data.get(city, {\"temperature\": \"Unknown\", \"condition\": \"Data not available\"})"
   ]
  },
  {
   "cell_type": "code",
   "execution_count": 31,
   "id": "5bcc82f1",
   "metadata": {},
   "outputs": [
    {
     "name": "stdout",
     "output_type": "stream",
     "text": [
      "--Function get_current_datetime is called for the timezone Asia/Kolkata \n",
      "--- Function get_temperature (Delhi Called\n"
     ]
    }
   ],
   "source": [
    "response= client.models.generate_content(\n",
    "    model=\"gemini-2.5-flash\",\n",
    "    contents=\"What is the current date and time and temperature for Delhi\",\n",
    "    config= types.GenerateContentConfig(\n",
    "        tools=[get_current_datetime,get_temperature],\n",
    "        thinking_config= types.ThinkingConfig(\n",
    "            include_thoughts=True\n",
    "        )\n",
    "    )\n",
    ")\n"
   ]
  },
  {
   "cell_type": "code",
   "execution_count": 32,
   "id": "2f603b51",
   "metadata": {},
   "outputs": [
    {
     "data": {
      "text/plain": [
       "GenerateContentResponse(\n",
       "  automatic_function_calling_history=[\n",
       "    UserContent(\n",
       "      parts=[\n",
       "        Part(\n",
       "          text='What is the current date and time and temperature for Delhi'\n",
       "        ),\n",
       "      ],\n",
       "      role='user'\n",
       "    ),\n",
       "    Content(\n",
       "      parts=[\n",
       "        Part(\n",
       "          text=\"\"\"**Processing the User's Request**\n",
       "\n",
       "Okay, the user needs two things: the date and time in Delhi, and the current temperature there.  No problem.  I'll start by grabbing the current date and time using `get_current_datetime`. I need to remember to specify the \"Asia/Kolkata\" timezone since that's where Delhi is located. After that, I can use `get_temperature` to fetch the current temperature for \"Delhi\".  Once I have both pieces of information, I can combine them into a coherent response for the user. Easy enough!\n",
       "\"\"\",\n",
       "          thought=True\n",
       "        ),\n",
       "        Part(\n",
       "          function_call=FunctionCall(\n",
       "            args={<... 1 item at Max depth ...>},\n",
       "            name='get_current_datetime'\n",
       "          ),\n",
       "          thought_signature=b'\\n\\xb5\\x03\\x01\\xd1\\xed\\x8ao\\x18\\xaa\\x8b\\xfdo\\x94\\x85\\xd9\\xa6W\\xd71\\xbb\\xcfh\\x91P\\x1bch\\x92\\x92\\x1bH\\xe9\\xe4\\xf9\\xf3\\x96b\\xb9\\x85\\xe5\\xac\\xaci\\xaf\\xac\\xbaKK\\xd9rY\\xf5\\xbb\\xc5\\xd3\\xb2\\xe0\\x15\\x04\\xb4>j\\xcdB\\xfd|\\xad\\xdd]+\\x1e\\xe9\\x8f\\x84\\xf1y\\x11qH\\xa2d\\x9b\\x19\\x82\\xda\\x08\\x85O\\x9d\\xbb\\xc1\\x7f\\x0f~\\x99\\xac...'\n",
       "        ),\n",
       "        Part(\n",
       "          function_call=FunctionCall(\n",
       "            args={<... 1 item at Max depth ...>},\n",
       "            name='get_temperature'\n",
       "          )\n",
       "        ),\n",
       "      ],\n",
       "      role='model'\n",
       "    ),\n",
       "    Content(\n",
       "      parts=[\n",
       "        Part(\n",
       "          function_response=FunctionResponse(\n",
       "            name='get_current_datetime',\n",
       "            response={<... 1 item at Max depth ...>}\n",
       "          )\n",
       "        ),\n",
       "        Part(\n",
       "          function_response=FunctionResponse(\n",
       "            name='get_temperature',\n",
       "            response={<... 1 item at Max depth ...>}\n",
       "          )\n",
       "        ),\n",
       "      ],\n",
       "      role='user'\n",
       "    ),\n",
       "  ],\n",
       "  candidates=[\n",
       "    Candidate(\n",
       "      content=Content(\n",
       "        parts=[\n",
       "          Part(\n",
       "            text=\"\"\"**Delhi Data Ready for Presentation**\n",
       "\n",
       "Okay, I've got everything I need. I've pulled the current date and time for Delhi – that's October 6th, 2025, and the time is 2:43:08 PM. And the temperature is a scorching 36 degrees Celsius, feeling \"Hot and Dry\". Now, it's just a matter of putting this information together in a clear and concise way for the user. I'll make sure it's presented logically and in a user-friendly format, keeping in mind their expertise. That's the final piece of the puzzle.\n",
       "\"\"\",\n",
       "            thought=True\n",
       "          ),\n",
       "          Part(\n",
       "            text='The current date and time in Delhi is 2025-10-06 02:43:08 PM and the temperature is 36°C with Hot and Dry conditions.',\n",
       "            thought_signature=b'\\n\\xea\\x02\\x01\\xd1\\xed\\x8ao\\x9f\\xab\\xa8a\\xe5\\xf7\\x04x\\xb1\\xe1b\\x85\\x90X[H{yD\\xf6\\x93,\\xf2X\\xfd\"\\x03\\xfeqC\\xdb\\x910\\xb3]\\x88\\x98\\x15)\\x03\\xc8\\xdfj\\x15\\xf2\\x91\\xad\\x8eO\\xd9.\\xf6(\\x11&\\xa11\\x08\\xfa=O\\xd8\\xb1*\\xb1\\xbc\\xdcY\\x8bX\\xcf0\"\\x98\\'?\\x82\\x7f\\xedO\\xcdU\\x10\\x10\\xb08\\xeb\\xa3\\xc7...'\n",
       "          ),\n",
       "        ],\n",
       "        role='model'\n",
       "      ),\n",
       "      finish_reason=<FinishReason.STOP: 'STOP'>,\n",
       "      index=0\n",
       "    ),\n",
       "  ],\n",
       "  model_version='gemini-2.5-flash',\n",
       "  response_id='IIjjaPLJI4-qvr0P5bqQ2Qg',\n",
       "  sdk_http_response=HttpResponse(\n",
       "    headers=<dict len=11>\n",
       "  ),\n",
       "  usage_metadata=GenerateContentResponseUsageMetadata(\n",
       "    candidates_token_count=44,\n",
       "    prompt_token_count=428,\n",
       "    prompt_tokens_details=[\n",
       "      ModalityTokenCount(\n",
       "        modality=<MediaModality.TEXT: 'TEXT'>,\n",
       "        token_count=428\n",
       "      ),\n",
       "    ],\n",
       "    thoughts_token_count=96,\n",
       "    total_token_count=568\n",
       "  )\n",
       ")"
      ]
     },
     "execution_count": 32,
     "metadata": {},
     "output_type": "execute_result"
    }
   ],
   "source": [
    "response"
   ]
  },
  {
   "cell_type": "code",
   "execution_count": null,
   "id": "17416ed9",
   "metadata": {},
   "outputs": [],
   "source": []
  }
 ],
 "metadata": {
  "kernelspec": {
   "display_name": "Python 3",
   "language": "python",
   "name": "python3"
  },
  "language_info": {
   "codemirror_mode": {
    "name": "ipython",
    "version": 3
   },
   "file_extension": ".py",
   "mimetype": "text/x-python",
   "name": "python",
   "nbconvert_exporter": "python",
   "pygments_lexer": "ipython3",
   "version": "3.13.5"
  }
 },
 "nbformat": 4,
 "nbformat_minor": 5
}
